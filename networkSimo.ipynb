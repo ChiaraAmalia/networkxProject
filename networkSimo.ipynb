{
 "cells": [
  {
   "cell_type": "markdown",
   "metadata": {},
   "source": [
    "# Questo è un file di test"
   ]
  },
  {
   "cell_type": "code",
   "execution_count": 2,
   "metadata": {},
   "outputs": [],
   "source": [
    "import networkx as nx\n",
    "import matplotlib.pyplot as plt\n",
    "import matplotlib.colors as mcolors\n",
    "import seaborn as sns\n",
    "import pandas as pd\n",
    "import matplotlib.colors as colors"
   ]
  },
  {
   "cell_type": "markdown",
   "metadata": {},
   "source": [
    "# Qui vado a caricare il grafo per fare le analisi"
   ]
  },
  {
   "cell_type": "code",
   "execution_count": 3,
   "metadata": {},
   "outputs": [],
   "source": [
    "pd.set_option('display.max_rows', 10)\n",
    "Relations = pd.read_csv('R_M_relations.csv')\n",
    "graph = nx.from_pandas_edgelist(Relations, source = 'src', target = 'dest')"
   ]
  },
  {
   "cell_type": "markdown",
   "metadata": {},
   "source": [
    "# Degree centrality"
   ]
  },
  {
   "cell_type": "code",
   "execution_count": 4,
   "metadata": {},
   "outputs": [
    {
     "name": "stdout",
     "output_type": "stream",
     "text": [
      "<class 'dict'>\n"
     ]
    }
   ],
   "source": [
    "d = nx.degree_centrality(graph)\n",
    "print(type(d))"
   ]
  },
  {
   "cell_type": "markdown",
   "metadata": {},
   "source": [
    "# Stampo i primi 10 elementi"
   ]
  },
  {
   "cell_type": "code",
   "execution_count": 32,
   "metadata": {},
   "outputs": [
    {
     "name": "stdout",
     "output_type": "stream",
     "text": [
      "1 Rick Sanchez: 0.22988505747126436\n",
      "2 Morty Smith: 0.2222222222222222\n",
      "3 Summer Smith: 0.20306513409961685\n",
      "4 Jerry Smith: 0.15708812260536398\n",
      "5 Beth Smith: 0.1532567049808429\n",
      "6 Morty Jr.: 0.08045977011494253\n",
      "7 Joyce Smith: 0.08045977011494253\n",
      "8 Leonard Smith: 0.07279693486590037\n",
      "9 Hemorrhage: 0.07279693486590037\n",
      "10 Jerry Smith (C-131): 0.07279693486590037\n"
     ]
    }
   ],
   "source": [
    "dict_items = sorted(d.items(), key=lambda x:x[1],reverse=True)\n",
    "\n",
    "first_ten = list(dict_items)[:10]\n",
    "\n",
    "#print(my_str)\n",
    "for i in range(0,10):\n",
    "    my_str = ': '.join(map(str, first_ten[i]))\n",
    "    print(str(i+1)+' '+my_str,sep=\"\\n\")"
   ]
  },
  {
   "cell_type": "markdown",
   "metadata": {},
   "source": [
    "# Test di displot delle centralità"
   ]
  },
  {
   "cell_type": "code",
   "execution_count": 17,
   "metadata": {},
   "outputs": [
    {
     "data": {
      "text/plain": [
       "(0.0, 0.23)"
      ]
     },
     "execution_count": 17,
     "metadata": {},
     "output_type": "execute_result"
    },
    {
     "data": {
      "image/png": "[encoded data removed]",
      "text/plain": [
       "<Figure size 500x500 with 1 Axes>"
      ]
     },
     "metadata": {},
     "output_type": "display_data"
    }
   ],
   "source": [
    "sns.set_style(\"darkgrid\")\n",
    "sns.displot(list(d.values()),stat='density',kde=True)\n",
    "#sns.histplot(data=allMadrid, x=\"PM10\",kde=True,bins=100,stat=\"density\",color='blue')\n",
    "\n",
    "plt.xlim(0, 0.23)"
   ]
  }
 ],
 "metadata": {
  "kernelspec": {
   "display_name": "Python 3.11.0 64-bit (microsoft store)",
   "language": "python",
   "name": "python3"
  },
  "language_info": {
   "codemirror_mode": {
    "name": "ipython",
    "version": 3
   },
   "file_extension": ".py",
   "mimetype": "text/x-python",
   "name": "python",
   "nbconvert_exporter": "python",
   "pygments_lexer": "ipython3",
   "version": "3.11.1 (tags/v3.11.1:a7a450f, Dec  6 2022, 19:58:39) [MSC v.1934 64 bit (AMD64)]"
  },
  "orig_nbformat": 4,
  "vscode": {
   "interpreter": {
    "hash": "919c18adca473b496926cbcc6d5129551fb55bb1642c0f0de4be834ae80622d5"
   }
  }
 },
 "nbformat": 4,
 "nbformat_minor": 2
}
